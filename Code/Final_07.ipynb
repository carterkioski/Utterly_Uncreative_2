{
 "cells": [
  {
   "cell_type": "code",
   "execution_count": 1,
   "metadata": {
    "_cell_guid": "79c7e3d0-c299-4dcb-8224-4455121ee9b0",
    "_uuid": "d629ff2d2480ee46fbb7e2d37f6b5fab8052498a"
   },
   "outputs": [],
   "source": [
    "from tensorflow import lite\n",
    "import tensorflow as tf\n",
    "from tensorflow import keras\n",
    "from tensorflow.keras import datasets, layers, models\n",
    "import numpy as np\n",
    "import pandas as pd\n",
    "import random, os\n",
    "import shutil\n",
    "import matplotlib.pyplot as plt\n",
    "from matplotlib.image import imread\n",
    "from tensorflow.keras.preprocessing.image import ImageDataGenerator\n",
    "from tensorflow.keras.metrics import categorical_accuracy, AUC\n",
    "from sklearn.model_selection import train_test_split"
   ]
  },
  {
   "cell_type": "code",
   "execution_count": 2,
   "metadata": {},
   "outputs": [
    {
     "data": {
      "text/html": [
       "<div>\n",
       "<style scoped>\n",
       "    .dataframe tbody tr th:only-of-type {\n",
       "        vertical-align: middle;\n",
       "    }\n",
       "\n",
       "    .dataframe tbody tr th {\n",
       "        vertical-align: top;\n",
       "    }\n",
       "\n",
       "    .dataframe thead th {\n",
       "        text-align: right;\n",
       "    }\n",
       "</style>\n",
       "<table border=\"1\" class=\"dataframe\">\n",
       "  <thead>\n",
       "    <tr style=\"text-align: right;\">\n",
       "      <th></th>\n",
       "      <th>id_code</th>\n",
       "      <th>diagnosis</th>\n",
       "      <th>binary_type</th>\n",
       "      <th>type</th>\n",
       "    </tr>\n",
       "  </thead>\n",
       "  <tbody>\n",
       "    <tr>\n",
       "      <th>0</th>\n",
       "      <td>000c1434d8d7</td>\n",
       "      <td>2</td>\n",
       "      <td>DR</td>\n",
       "      <td>Moderate</td>\n",
       "    </tr>\n",
       "    <tr>\n",
       "      <th>1</th>\n",
       "      <td>001639a390f0</td>\n",
       "      <td>4</td>\n",
       "      <td>DR</td>\n",
       "      <td>Proliferate_DR</td>\n",
       "    </tr>\n",
       "    <tr>\n",
       "      <th>2</th>\n",
       "      <td>0024cdab0c1e</td>\n",
       "      <td>1</td>\n",
       "      <td>DR</td>\n",
       "      <td>Mild</td>\n",
       "    </tr>\n",
       "    <tr>\n",
       "      <th>3</th>\n",
       "      <td>002c21358ce6</td>\n",
       "      <td>0</td>\n",
       "      <td>No_DR</td>\n",
       "      <td>No_DR</td>\n",
       "    </tr>\n",
       "    <tr>\n",
       "      <th>4</th>\n",
       "      <td>005b95c28852</td>\n",
       "      <td>0</td>\n",
       "      <td>No_DR</td>\n",
       "      <td>No_DR</td>\n",
       "    </tr>\n",
       "  </tbody>\n",
       "</table>\n",
       "</div>"
      ],
      "text/plain": [
       "        id_code  diagnosis binary_type            type\n",
       "0  000c1434d8d7          2          DR        Moderate\n",
       "1  001639a390f0          4          DR  Proliferate_DR\n",
       "2  0024cdab0c1e          1          DR            Mild\n",
       "3  002c21358ce6          0       No_DR           No_DR\n",
       "4  005b95c28852          0       No_DR           No_DR"
      ]
     },
     "execution_count": 2,
     "metadata": {},
     "output_type": "execute_result"
    }
   ],
   "source": [
    "# Add an additional column, mapping to the type\n",
    "Image_info_df = pd.read_csv('../Data/Gaussian_Retina_Data/train.csv')\n",
    "\n",
    "diagnosis_dict_binary = {\n",
    "    0: 'No_DR',\n",
    "    1: 'DR',\n",
    "    2: 'DR',\n",
    "    3: 'DR',\n",
    "    4: 'DR'\n",
    "}\n",
    "\n",
    "diagnosis_dict = {\n",
    "    0: 'No_DR',\n",
    "    1: 'Mild',\n",
    "    2: 'Moderate',\n",
    "    3: 'Severe',\n",
    "    4: 'Proliferate_DR',\n",
    "}\n",
    "\n",
    "\n",
    "Image_info_df['binary_type'] =  Image_info_df['diagnosis'].map(diagnosis_dict_binary.get)\n",
    "Image_info_df['type'] = Image_info_df['diagnosis'].map(diagnosis_dict.get)\n",
    "Image_info_df.head()"
   ]
  },
  {
   "cell_type": "code",
   "execution_count": 3,
   "metadata": {},
   "outputs": [
    {
     "data": {
      "text/plain": [
       "<matplotlib.axes._subplots.AxesSubplot at 0x2837356ba58>"
      ]
     },
     "execution_count": 3,
     "metadata": {},
     "output_type": "execute_result"
    },
    {
     "data": {
      "image/png": "[encoded data removed]",
      "text/plain": [
       "<Figure size 432x288 with 1 Axes>"
      ]
     },
     "metadata": {
      "needs_background": "light"
     },
     "output_type": "display_data"
    }
   ],
   "source": [
    "# Show how many of each type of retinopathy\n",
    "Image_info_df['type'].value_counts().plot(kind='barh')"
   ]
  },
  {
   "cell_type": "code",
   "execution_count": 4,
   "metadata": {},
   "outputs": [
    {
     "data": {
      "text/plain": [
       "<matplotlib.axes._subplots.AxesSubplot at 0x28373634e48>"
      ]
     },
     "execution_count": 4,
     "metadata": {},
     "output_type": "execute_result"
    },
    {
     "data": {
      "image/png": "[encoded data removed]",
      "text/plain": [
       "<Figure size 432x288 with 1 Axes>"
      ]
     },
     "metadata": {
      "needs_background": "light"
     },
     "output_type": "display_data"
    }
   ],
   "source": [
    "# Show the balance between no retinopathy and stages of retinopathy\n",
    "Image_info_df['binary_type'].value_counts().plot(kind='barh')"
   ]
  },
  {
   "cell_type": "code",
   "execution_count": 5,
   "metadata": {},
   "outputs": [
    {
     "name": "stdout",
     "output_type": "stream",
     "text": [
      "No_DR             1456\n",
      "Moderate           794\n",
      "Mild               282\n",
      "Proliferate_DR     241\n",
      "Severe             156\n",
      "Name: type, dtype: int64 \n",
      "\n",
      "No_DR             349\n",
      "Moderate          205\n",
      "Mild               88\n",
      "Proliferate_DR     54\n",
      "Severe             37\n",
      "Name: type, dtype: int64 \n",
      "\n"
     ]
    }
   ],
   "source": [
    "# Split into train, and test sets\n",
    "train, test = train_test_split(Image_info_df, test_size = 0.20)\n",
    "\n",
    "# Show how many in each set\n",
    "print(train['type'].value_counts(), '\\n')\n",
    "print(test['type'].value_counts(), '\\n')"
   ]
  },
  {
   "cell_type": "code",
   "execution_count": 6,
   "metadata": {},
   "outputs": [],
   "source": [
    "# Create working directories for train/val/test\n",
    "base_dir = ''\n",
    "\n",
    "train_dir = os.path.join(base_dir, 'train')\n",
    "test_dir = os.path.join(base_dir, 'test')\n",
    "\n",
    "if os.path.exists(base_dir):\n",
    "    shutil.rmtree(base_dir)\n",
    "\n",
    "if os.path.exists(train_dir):\n",
    "    shutil.rmtree(train_dir)\n",
    "os.makedirs(train_dir)\n",
    "\n",
    "if os.path.exists(test_dir):\n",
    "    shutil.rmtree(test_dir)\n",
    "os.makedirs(test_dir)\n"
   ]
  },
  {
   "cell_type": "code",
   "execution_count": 7,
   "metadata": {},
   "outputs": [],
   "source": [
    "# Copy images to respective working directory\n",
    "src_dir = '../Data/Gaussian_Retina_Data/gaussian_filtered_images/gaussian_filtered_images/'\n",
    "for index, row in train.iterrows():\n",
    "    diagnosis = row['type']\n",
    "    binary_diagnosis = row['binary_type']\n",
    "    id_code = row['id_code'] + \".png\"\n",
    "    srcfile = os.path.join(src_dir, diagnosis, id_code)\n",
    "    dstfile = os.path.join(train_dir, diagnosis)\n",
    "    os.makedirs(dstfile, exist_ok = True)\n",
    "    shutil.copy(srcfile, dstfile)\n",
    "\n",
    "for index, row in test.iterrows():\n",
    "    diagnosis = row['type']\n",
    "    binary_diagnosis = row['binary_type']\n",
    "    id_code = row['id_code'] + \".png\"\n",
    "    srcfile = os.path.join(src_dir, diagnosis, id_code)\n",
    "    dstfile = os.path.join(test_dir, diagnosis)\n",
    "    os.makedirs(dstfile, exist_ok = True)\n",
    "    shutil.copy(srcfile, dstfile)"
   ]
  },
  {
   "cell_type": "code",
   "execution_count": 8,
   "metadata": {},
   "outputs": [
    {
     "name": "stdout",
     "output_type": "stream",
     "text": [
      "Found 2929 images belonging to 5 classes.\n",
      "Found 733 images belonging to 5 classes.\n"
     ]
    }
   ],
   "source": [
    "# Setting up ImageDataGenerator for train/val/test \n",
    "\n",
    "train_path = 'train'\n",
    "test_path = 'test'\n",
    "\n",
    "train_batches = ImageDataGenerator(rescale = 1./255).flow_from_directory(train_path, target_size=(224,224), shuffle = True)\n",
    "test_batches = ImageDataGenerator(rescale = 1./255).flow_from_directory(test_path, target_size=(224,224), shuffle = False)"
   ]
  },
  {
   "cell_type": "markdown",
   "metadata": {},
   "source": [
    "# 8 Layer CNN Model"
   ]
  },
  {
   "cell_type": "code",
   "execution_count": 9,
   "metadata": {},
   "outputs": [
    {
     "name": "stdout",
     "output_type": "stream",
     "text": [
      "Model: \"sequential\"\n",
      "_________________________________________________________________\n",
      "Layer (type)                 Output Shape              Param #   \n",
      "=================================================================\n",
      "conv2d (Conv2D)              (None, 224, 224, 16)      448       \n",
      "_________________________________________________________________\n",
      "max_pooling2d (MaxPooling2D) (None, 112, 112, 16)      0         \n",
      "_________________________________________________________________\n",
      "batch_normalization (BatchNo (None, 112, 112, 16)      64        \n",
      "_________________________________________________________________\n",
      "conv2d_1 (Conv2D)            (None, 112, 112, 32)      4640      \n",
      "_________________________________________________________________\n",
      "max_pooling2d_1 (MaxPooling2 (None, 56, 56, 32)        0         \n",
      "_________________________________________________________________\n",
      "batch_normalization_1 (Batch (None, 56, 56, 32)        128       \n",
      "_________________________________________________________________\n",
      "conv2d_2 (Conv2D)            (None, 56, 56, 32)        9248      \n",
      "_________________________________________________________________\n",
      "max_pooling2d_2 (MaxPooling2 (None, 28, 28, 32)        0         \n",
      "_________________________________________________________________\n",
      "batch_normalization_2 (Batch (None, 28, 28, 32)        128       \n",
      "_________________________________________________________________\n",
      "conv2d_3 (Conv2D)            (None, 28, 28, 64)        18496     \n",
      "_________________________________________________________________\n",
      "max_pooling2d_3 (MaxPooling2 (None, 14, 14, 64)        0         \n",
      "_________________________________________________________________\n",
      "batch_normalization_3 (Batch (None, 14, 14, 64)        256       \n",
      "_________________________________________________________________\n",
      "conv2d_4 (Conv2D)            (None, 14, 14, 64)        36928     \n",
      "_________________________________________________________________\n",
      "max_pooling2d_4 (MaxPooling2 (None, 7, 7, 64)          0         \n",
      "_________________________________________________________________\n",
      "batch_normalization_4 (Batch (None, 7, 7, 64)          256       \n",
      "_________________________________________________________________\n",
      "conv2d_5 (Conv2D)            (None, 7, 7, 128)         73856     \n",
      "_________________________________________________________________\n",
      "max_pooling2d_5 (MaxPooling2 (None, 3, 3, 128)         0         \n",
      "_________________________________________________________________\n",
      "batch_normalization_5 (Batch (None, 3, 3, 128)         512       \n",
      "_________________________________________________________________\n",
      "conv2d_6 (Conv2D)            (None, 3, 3, 256)         295168    \n",
      "_________________________________________________________________\n",
      "max_pooling2d_6 (MaxPooling2 (None, 1, 1, 256)         0         \n",
      "_________________________________________________________________\n",
      "batch_normalization_6 (Batch (None, 1, 1, 256)         1024      \n",
      "_________________________________________________________________\n",
      "conv2d_7 (Conv2D)            (None, 1, 1, 128)         295040    \n",
      "_________________________________________________________________\n",
      "max_pooling2d_7 (MaxPooling2 (None, 1, 1, 128)         0         \n",
      "_________________________________________________________________\n",
      "batch_normalization_7 (Batch (None, 1, 1, 128)         512       \n",
      "_________________________________________________________________\n",
      "flatten (Flatten)            (None, 128)               0         \n",
      "_________________________________________________________________\n",
      "dense (Dense)                (None, 8)                 1032      \n",
      "_________________________________________________________________\n",
      "dropout (Dropout)            (None, 8)                 0         \n",
      "_________________________________________________________________\n",
      "dense_1 (Dense)              (None, 5)                 45        \n",
      "=================================================================\n",
      "Total params: 737,781\n",
      "Trainable params: 736,341\n",
      "Non-trainable params: 1,440\n",
      "_________________________________________________________________\n"
     ]
    }
   ],
   "source": [
    "# Building the model\n",
    "\n",
    "model = models.Sequential([\n",
    "    layers.Conv2D(16, (3, 3), padding=\"same\", activation='relu', input_shape=(224, 224, 3)),\n",
    "    layers.MaxPooling2D(pool_size=(2, 2)),\n",
    "    layers.BatchNormalization(),\n",
    "\n",
    "    layers.Conv2D(32, (3, 3), padding=\"same\", activation='relu'),\n",
    "    layers.MaxPooling2D(pool_size=(2, 2)),\n",
    "    layers.BatchNormalization(),\n",
    "\n",
    "    layers.Conv2D(32, (3, 3), padding=\"same\", activation='relu'),\n",
    "    layers.MaxPooling2D(pool_size=(2, 2)),\n",
    "    layers.BatchNormalization(),\n",
    "\n",
    "    layers.Conv2D(64, (3, 3), padding=\"same\", activation='relu'),\n",
    "    layers.MaxPooling2D(pool_size=(2, 2)),\n",
    "    layers.BatchNormalization(),\n",
    "\n",
    "    layers.Conv2D(64, (3, 3), padding=\"same\", activation='relu'),\n",
    "    layers.MaxPooling2D(pool_size=(2, 2)),\n",
    "    layers.BatchNormalization(),\n",
    "\n",
    "    layers.Conv2D(128, (3, 3), padding=\"same\", activation='relu'),\n",
    "    layers.MaxPooling2D(pool_size=(2, 2)),\n",
    "    layers.BatchNormalization(),\n",
    "\n",
    "    layers.Conv2D(256, (3, 3), padding=\"same\", activation='relu'),\n",
    "    layers.MaxPooling2D(pool_size=(2, 2)),\n",
    "    layers.BatchNormalization(),\n",
    "\n",
    "    layers.Conv2D(128, (3, 3), padding=\"same\", activation='relu'),\n",
    "    layers.MaxPooling2D(pool_size=(1, 1)),\n",
    "    layers.BatchNormalization(),\n",
    "\n",
    "    layers.Flatten(),\n",
    "    layers.Dense(8, activation = 'relu'),\n",
    "    layers.Dropout(0.15),\n",
    "    layers.Dense(5, activation = 'softmax')\n",
    "\n",
    "])\n",
    "\n",
    "# Show the structure of the model\n",
    "model.summary()"
   ]
  },
  {
   "cell_type": "code",
   "execution_count": 10,
   "metadata": {},
   "outputs": [],
   "source": [
    "#######################################################################################\n",
    "### I T E R A T I O N 1 ###############################################################\n",
    "#######################################################################################\n"
   ]
  },
  {
   "cell_type": "code",
   "execution_count": 10,
   "metadata": {},
   "outputs": [
    {
     "name": "stdout",
     "output_type": "stream",
     "text": [
      "Epoch 1/10\n",
      "92/92 [==============================] - 126s 1s/step - loss: 0.7154 - acc: 0.3308 - val_loss: 0.6943 - val_acc: 0.0737\n",
      "Epoch 2/10\n",
      "92/92 [==============================] - 119s 1s/step - loss: 0.6496 - acc: 0.4333 - val_loss: 0.7059 - val_acc: 0.0737\n",
      "Epoch 3/10\n",
      "92/92 [==============================] - 118s 1s/step - loss: 0.6096 - acc: 0.4906 - val_loss: 0.7261 - val_acc: 0.0737\n",
      "Epoch 4/10\n",
      "92/92 [==============================] - 117s 1s/step - loss: 0.5826 - acc: 0.5179 - val_loss: 0.7583 - val_acc: 0.0737\n",
      "Epoch 5/10\n",
      "92/92 [==============================] - 109s 1s/step - loss: 0.5652 - acc: 0.5347 - val_loss: 0.7355 - val_acc: 0.0737\n",
      "Epoch 6/10\n",
      "92/92 [==============================] - 102s 1s/step - loss: 0.5473 - acc: 0.5398 - val_loss: 0.6700 - val_acc: 0.1473\n",
      "Epoch 7/10\n",
      "92/92 [==============================] - 104s 1s/step - loss: 0.5337 - acc: 0.5582 - val_loss: 0.5877 - val_acc: 0.4270\n",
      "Epoch 8/10\n",
      "92/92 [==============================] - 101s 1s/step - loss: 0.5239 - acc: 0.5715 - val_loss: 0.5320 - val_acc: 0.5389\n",
      "Epoch 9/10\n",
      "92/92 [==============================] - 95s 1s/step - loss: 0.5140 - acc: 0.5633 - val_loss: 0.5051 - val_acc: 0.5812\n",
      "Epoch 10/10\n",
      "92/92 [==============================] - 96s 1s/step - loss: 0.5042 - acc: 0.5845 - val_loss: 0.4913 - val_acc: 0.6044\n"
     ]
    }
   ],
   "source": [
    "# Compile and Execute the model\n",
    "model.compile(optimizer=tf.keras.optimizers.Adam(learning_rate = 1e-5),\n",
    "              loss=tf.keras.losses.BinaryCrossentropy(),\n",
    "              metrics=['acc'])\n",
    "\n",
    "history_40_1 = model.fit(train_batches,\n",
    "                    epochs=10,\n",
    "                    validation_data=test_batches)"
   ]
  },
  {
   "cell_type": "code",
   "execution_count": 11,
   "metadata": {},
   "outputs": [
    {
     "name": "stdout",
     "output_type": "stream",
     "text": [
      "23/23 [==============================] - 7s 308ms/step - loss: 0.4913 - acc: 0.6044\n",
      "Accuracy:  0.6043656468391418\n"
     ]
    }
   ],
   "source": [
    "# Show the final accuracy of the model\n",
    "acc = model.evaluate(test_batches, verbose=1)\n",
    "print(\"Accuracy: \", acc[1])"
   ]
  },
  {
   "cell_type": "code",
   "execution_count": 12,
   "metadata": {},
   "outputs": [
    {
     "data": {
      "text/plain": [
       "<matplotlib.legend.Legend at 0x28300214a58>"
      ]
     },
     "execution_count": 12,
     "metadata": {},
     "output_type": "execute_result"
    },
    {
     "data": {
      "image/png": "[encoded data removed]",
      "text/plain": [
       "<Figure size 432x288 with 2 Axes>"
      ]
     },
     "metadata": {
      "needs_background": "light"
     },
     "output_type": "display_data"
    }
   ],
   "source": [
    "# plot the graphs of how the solution converges: Accuracy and Loss for the training and test data\n",
    "\n",
    "plt.subplot(1,2,1)\n",
    "plt.plot(history_40_1.history['acc'])\n",
    "plt.plot(history_40_1.history['val_acc'])\n",
    "plt.ylabel('Accuracy')\n",
    "plt.xlabel('Epoch')\n",
    "plt.legend(['Train', 'Validate'], loc='center left')\n",
    "\n",
    "plt.subplot(1,2,2)\n",
    "plt.plot(history_40_1.history['loss'])\n",
    "plt.plot(history_40_1.history['val_loss'])\n",
    "plt.ylabel('Loss')\n",
    "plt.xlabel('Epoch')\n",
    "plt.legend(['Train', 'Validate'], loc='center right')\n"
   ]
  },
  {
   "cell_type": "code",
   "execution_count": 13,
   "metadata": {},
   "outputs": [
    {
     "name": "stdout",
     "output_type": "stream",
     "text": [
      "The first 10 predictions: ['Moderate', 'Mild', 'Proliferate_DR', 'Proliferate_DR', 'Moderate', 'Mild', 'Mild', 'Proliferate_DR', 'Moderate', 'Moderate']\n"
     ]
    }
   ],
   "source": [
    "#  Predict the label of the test_images\n",
    "pred = model.predict(test_batches)\n",
    "pred = np.argmax(pred,axis=1)\n",
    "\n",
    "# Map the label\n",
    "labels = (train_batches.class_indices)\n",
    "labels = dict((v,k) for k,v in labels.items())\n",
    "pred = [labels[k] for k in pred]\n",
    "\n",
    "# Display the result\n",
    "print(f'The first 10 predictions: {pred[:10]}')"
   ]
  },
  {
   "cell_type": "code",
   "execution_count": 14,
   "metadata": {},
   "outputs": [],
   "source": [
    "# Save the model\n",
    "model.save(\"40-1_Retinopathy_model_trained.h5\")"
   ]
  },
  {
   "cell_type": "code",
   "execution_count": 15,
   "metadata": {},
   "outputs": [],
   "source": [
    "# Save the History\n",
    "df=pd.DataFrame.from_dict(history_40_1.history, orient=\"index\")\n",
    "df.to_csv(\"40-1_history_data.csv\")"
   ]
  },
  {
   "cell_type": "code",
   "execution_count": 16,
   "metadata": {},
   "outputs": [],
   "source": [
    "# Save the predictions\n",
    "import csv\n",
    "with open(\"40-1_pred.csv\", 'w', newline='') as myfile:\n",
    "     wr = csv.writer(myfile, quoting=csv.QUOTE_ALL)\n",
    "     wr.writerow(pred)"
   ]
  },
  {
   "cell_type": "code",
   "execution_count": 17,
   "metadata": {},
   "outputs": [],
   "source": [
    "#######################################################################################\n",
    "### I T E R A T I O N 2 ###############################################################\n",
    "#######################################################################################\n"
   ]
  },
  {
   "cell_type": "code",
   "execution_count": 17,
   "metadata": {},
   "outputs": [
    {
     "name": "stdout",
     "output_type": "stream",
     "text": [
      "Epoch 1/10\n",
      "92/92 [==============================] - 98s 1s/step - loss: 0.4974 - acc: 0.5825 - val_loss: 0.4844 - val_acc: 0.6166\n",
      "Epoch 2/10\n",
      "92/92 [==============================] - 95s 1s/step - loss: 0.4941 - acc: 0.5937 - val_loss: 0.4760 - val_acc: 0.6235\n",
      "Epoch 3/10\n",
      "92/92 [==============================] - 96s 1s/step - loss: 0.4820 - acc: 0.6005 - val_loss: 0.4660 - val_acc: 0.6330\n",
      "Epoch 4/10\n",
      "92/92 [==============================] - 96s 1s/step - loss: 0.4784 - acc: 0.6111 - val_loss: 0.4626 - val_acc: 0.6439\n",
      "Epoch 5/10\n",
      "92/92 [==============================] - 97s 1s/step - loss: 0.4741 - acc: 0.6070 - val_loss: 0.4593 - val_acc: 0.6344\n",
      "Epoch 6/10\n",
      "92/92 [==============================] - 96s 1s/step - loss: 0.4655 - acc: 0.6244 - val_loss: 0.4557 - val_acc: 0.6535\n",
      "Epoch 7/10\n",
      "92/92 [==============================] - 95s 1s/step - loss: 0.4610 - acc: 0.6350 - val_loss: 0.4505 - val_acc: 0.6426\n",
      "Epoch 8/10\n",
      "92/92 [==============================] - 95s 1s/step - loss: 0.4596 - acc: 0.6262 - val_loss: 0.4495 - val_acc: 0.6508\n",
      "Epoch 9/10\n",
      "92/92 [==============================] - 95s 1s/step - loss: 0.4553 - acc: 0.6391 - val_loss: 0.4467 - val_acc: 0.6398\n",
      "Epoch 10/10\n",
      "92/92 [==============================] - 104s 1s/step - loss: 0.4418 - acc: 0.6501 - val_loss: 0.4438 - val_acc: 0.6630\n"
     ]
    }
   ],
   "source": [
    "# Compile and Execute the model\n",
    "model.compile(optimizer=tf.keras.optimizers.Adam(learning_rate = 1e-5),\n",
    "              loss=tf.keras.losses.BinaryCrossentropy(),\n",
    "              metrics=['acc'])\n",
    "\n",
    "history_40_2 = model.fit(train_batches,\n",
    "                    epochs=10,\n",
    "                    validation_data=test_batches)"
   ]
  },
  {
   "cell_type": "code",
   "execution_count": 18,
   "metadata": {},
   "outputs": [
    {
     "name": "stdout",
     "output_type": "stream",
     "text": [
      "23/23 [==============================] - 8s 331ms/step - loss: 0.4438 - acc: 0.6630\n",
      "Accuracy:  0.6630286574363708\n"
     ]
    }
   ],
   "source": [
    "# Show the final accuracy of the model\n",
    "acc = model.evaluate(test_batches, verbose=1)\n",
    "print(\"Accuracy: \", acc[1])"
   ]
  },
  {
   "cell_type": "code",
   "execution_count": 19,
   "metadata": {},
   "outputs": [
    {
     "data": {
      "text/plain": [
       "<matplotlib.legend.Legend at 0x2830246e4e0>"
      ]
     },
     "execution_count": 19,
     "metadata": {},
     "output_type": "execute_result"
    },
    {
     "data": {
      "image/png": "[encoded data removed]",
      "text/plain": [
       "<Figure size 432x288 with 2 Axes>"
      ]
     },
     "metadata": {
      "needs_background": "light"
     },
     "output_type": "display_data"
    }
   ],
   "source": [
    "# plot the graphs of how the solution converges: Accuracy and Loss for the training and test data\n",
    "\n",
    "plt.subplot(1,2,1)\n",
    "plt.plot(history_40_2.history['acc'])\n",
    "plt.plot(history_40_2.history['val_acc'])\n",
    "plt.ylabel('Accuracy')\n",
    "plt.xlabel('Epoch')\n",
    "plt.legend(['Train', 'Validate'], loc='center left')\n",
    "\n",
    "plt.subplot(1,2,2)\n",
    "plt.plot(history_40_2.history['loss'])\n",
    "plt.plot(history_40_2.history['val_loss'])\n",
    "plt.ylabel('Loss')\n",
    "plt.xlabel('Epoch')\n",
    "plt.legend(['Train', 'Validate'], loc='center right')"
   ]
  },
  {
   "cell_type": "code",
   "execution_count": 20,
   "metadata": {},
   "outputs": [
    {
     "name": "stdout",
     "output_type": "stream",
     "text": [
      "The first 10 predictions: ['Moderate', 'Mild', 'Proliferate_DR', 'Mild', 'Mild', 'Mild', 'Mild', 'Proliferate_DR', 'Moderate', 'Proliferate_DR']\n"
     ]
    }
   ],
   "source": [
    "#  Predict the label of the test_images\n",
    "pred = model.predict(test_batches)\n",
    "pred = np.argmax(pred,axis=1)\n",
    "\n",
    "# Map the label\n",
    "labels = (train_batches.class_indices)\n",
    "labels = dict((v,k) for k,v in labels.items())\n",
    "pred = [labels[k] for k in pred]\n",
    "\n",
    "# Display the result\n",
    "print(f'The first 10 predictions: {pred[:10]}')"
   ]
  },
  {
   "cell_type": "code",
   "execution_count": 23,
   "metadata": {},
   "outputs": [],
   "source": [
    "# Save the model\n",
    "model.save(\"40-2_Retinopathy_model_trained.h5\")\n",
    "# Save the History\n",
    "df=pd.DataFrame.from_dict(history_40_2.history, orient=\"index\")\n",
    "df.to_csv(\"40-2_history_data.csv\")"
   ]
  },
  {
   "cell_type": "code",
   "execution_count": 22,
   "metadata": {},
   "outputs": [],
   "source": [
    "# Save the predictions\n",
    "import csv\n",
    "with open(\"40-2_pred.csv\", 'w', newline='') as myfile:\n",
    "     wr = csv.writer(myfile, quoting=csv.QUOTE_ALL)\n",
    "     wr.writerow(pred)"
   ]
  },
  {
   "cell_type": "code",
   "execution_count": 22,
   "metadata": {},
   "outputs": [],
   "source": [
    "#######################################################################################\n",
    "### I T E R A T I O N 3 ###############################################################\n",
    "#######################################################################################\n"
   ]
  },
  {
   "cell_type": "code",
   "execution_count": 24,
   "metadata": {},
   "outputs": [
    {
     "name": "stdout",
     "output_type": "stream",
     "text": [
      "Epoch 1/10\n",
      "92/92 [==============================] - 104s 1s/step - loss: 0.4416 - acc: 0.6494 - val_loss: 0.4419 - val_acc: 0.6439\n",
      "Epoch 2/10\n",
      "92/92 [==============================] - 110s 1s/step - loss: 0.4427 - acc: 0.6487 - val_loss: 0.4392 - val_acc: 0.6453\n",
      "Epoch 3/10\n",
      "92/92 [==============================] - 120s 1s/step - loss: 0.4342 - acc: 0.6647 - val_loss: 0.4355 - val_acc: 0.6576\n",
      "Epoch 4/10\n",
      "92/92 [==============================] - 121s 1s/step - loss: 0.4275 - acc: 0.6647 - val_loss: 0.4303 - val_acc: 0.6617\n",
      "Epoch 5/10\n",
      "92/92 [==============================] - 117s 1s/step - loss: 0.4272 - acc: 0.6719 - val_loss: 0.4323 - val_acc: 0.6671\n",
      "Epoch 6/10\n",
      "92/92 [==============================] - 105s 1s/step - loss: 0.4214 - acc: 0.6678 - val_loss: 0.4359 - val_acc: 0.6521\n",
      "Epoch 7/10\n",
      "92/92 [==============================] - 105s 1s/step - loss: 0.4206 - acc: 0.6753 - val_loss: 0.4288 - val_acc: 0.6589\n",
      "Epoch 8/10\n",
      "92/92 [==============================] - 104s 1s/step - loss: 0.4152 - acc: 0.6757 - val_loss: 0.4263 - val_acc: 0.6698\n",
      "Epoch 9/10\n",
      "92/92 [==============================] - 103s 1s/step - loss: 0.4124 - acc: 0.6774 - val_loss: 0.4267 - val_acc: 0.6521\n",
      "Epoch 10/10\n",
      "92/92 [==============================] - 105s 1s/step - loss: 0.4064 - acc: 0.6910 - val_loss: 0.4235 - val_acc: 0.6467\n",
      "23/23 [==============================] - 8s 363ms/step - loss: 0.4235 - acc: 0.6467\n",
      "Accuracy:  0.6466575860977173\n"
     ]
    }
   ],
   "source": [
    "# Compile and Execute the model\n",
    "model.compile(optimizer=tf.keras.optimizers.Adam(learning_rate = 1e-5),\n",
    "              loss=tf.keras.losses.BinaryCrossentropy(),\n",
    "              metrics=['acc'])\n",
    "\n",
    "history_40_3 = model.fit(train_batches,\n",
    "                    epochs=10,\n",
    "                    validation_data=test_batches)\n",
    "# Show the final accuracy of the model\n",
    "acc = model.evaluate(test_batches, verbose=1)\n",
    "print(\"Accuracy: \", acc[1])"
   ]
  },
  {
   "cell_type": "code",
   "execution_count": 25,
   "metadata": {},
   "outputs": [
    {
     "data": {
      "text/plain": [
       "<matplotlib.legend.Legend at 0x283041202e8>"
      ]
     },
     "execution_count": 25,
     "metadata": {},
     "output_type": "execute_result"
    },
    {
     "data": {
      "image/png": "[encoded data removed]",
      "text/plain": [
       "<Figure size 432x288 with 2 Axes>"
      ]
     },
     "metadata": {
      "needs_background": "light"
     },
     "output_type": "display_data"
    }
   ],
   "source": [
    "# plot the graphs of how the solution converges: Accuracy and Loss for the training and test data\n",
    "\n",
    "plt.subplot(1,2,1)\n",
    "plt.plot(history_40_3.history['acc'])\n",
    "plt.plot(history_40_3.history['val_acc'])\n",
    "plt.ylabel('Accuracy')\n",
    "plt.xlabel('Epoch')\n",
    "plt.legend(['Train', 'Validate'], loc='center left')\n",
    "\n",
    "plt.subplot(1,2,2)\n",
    "plt.plot(history_40_3.history['loss'])\n",
    "plt.plot(history_40_3.history['val_loss'])\n",
    "plt.ylabel('Loss')\n",
    "plt.xlabel('Epoch')\n",
    "plt.legend(['Train', 'Validate'], loc='center right')"
   ]
  },
  {
   "cell_type": "code",
   "execution_count": 26,
   "metadata": {},
   "outputs": [
    {
     "name": "stdout",
     "output_type": "stream",
     "text": [
      "The first 10 predictions: ['Moderate', 'Mild', 'Moderate', 'Mild', 'Moderate', 'Mild', 'Mild', 'No_DR', 'Moderate', 'Proliferate_DR']\n"
     ]
    }
   ],
   "source": [
    "#  Predict the label of the test_images\n",
    "pred = model.predict(test_batches)\n",
    "pred = np.argmax(pred,axis=1)\n",
    "\n",
    "# Map the label\n",
    "labels = (train_batches.class_indices)\n",
    "labels = dict((v,k) for k,v in labels.items())\n",
    "pred = [labels[k] for k in pred]\n",
    "\n",
    "# Display the result\n",
    "print(f'The first 10 predictions: {pred[:10]}')"
   ]
  },
  {
   "cell_type": "code",
   "execution_count": 27,
   "metadata": {},
   "outputs": [],
   "source": [
    "# Save the model\n",
    "model.save(\"40-3_Retinopathy_model_trained.h5\")\n",
    "# Save the History\n",
    "df=pd.DataFrame.from_dict(history_40_3.history, orient=\"index\")\n",
    "df.to_csv(\"40-3_history_data.csv\")"
   ]
  },
  {
   "cell_type": "code",
   "execution_count": 28,
   "metadata": {},
   "outputs": [],
   "source": [
    "#######################################################################################\n",
    "### I T E R A T I O N 4 ###############################################################\n",
    "#######################################################################################\n"
   ]
  },
  {
   "cell_type": "code",
   "execution_count": 29,
   "metadata": {},
   "outputs": [
    {
     "name": "stdout",
     "output_type": "stream",
     "text": [
      "Epoch 1/10\n",
      "92/92 [==============================] - 116s 1s/step - loss: 0.4002 - acc: 0.6876 - val_loss: 0.4235 - val_acc: 0.6562\n",
      "Epoch 2/10\n",
      "92/92 [==============================] - 128s 1s/step - loss: 0.3999 - acc: 0.6951 - val_loss: 0.4192 - val_acc: 0.6412\n",
      "Epoch 3/10\n",
      "92/92 [==============================] - 121s 1s/step - loss: 0.3867 - acc: 0.7159 - val_loss: 0.4163 - val_acc: 0.6521\n",
      "Epoch 4/10\n",
      "92/92 [==============================] - 110s 1s/step - loss: 0.3936 - acc: 0.7040 - val_loss: 0.4185 - val_acc: 0.6589\n",
      "Epoch 5/10\n",
      "92/92 [==============================] - 110s 1s/step - loss: 0.3935 - acc: 0.7013 - val_loss: 0.4152 - val_acc: 0.6371\n",
      "Epoch 6/10\n",
      "92/92 [==============================] - 108s 1s/step - loss: 0.3850 - acc: 0.7019 - val_loss: 0.4174 - val_acc: 0.6494\n",
      "Epoch 7/10\n",
      "92/92 [==============================] - 110s 1s/step - loss: 0.3863 - acc: 0.7037 - val_loss: 0.4128 - val_acc: 0.6521\n",
      "Epoch 8/10\n",
      "92/92 [==============================] - 111s 1s/step - loss: 0.3768 - acc: 0.7207 - val_loss: 0.4090 - val_acc: 0.6453\n",
      "Epoch 9/10\n",
      "92/92 [==============================] - 115s 1s/step - loss: 0.3721 - acc: 0.7217 - val_loss: 0.4062 - val_acc: 0.6671\n",
      "Epoch 10/10\n",
      "92/92 [==============================] - 111s 1s/step - loss: 0.3711 - acc: 0.7224 - val_loss: 0.4036 - val_acc: 0.6535\n",
      "23/23 [==============================] - 8s 348ms/step - loss: 0.4036 - acc: 0.6535\n",
      "Accuracy:  0.6534788608551025\n"
     ]
    }
   ],
   "source": [
    "# Compile and Execute the model\n",
    "model.compile(optimizer=tf.keras.optimizers.Adam(learning_rate = 1e-5),\n",
    "              loss=tf.keras.losses.BinaryCrossentropy(),\n",
    "              metrics=['acc'])\n",
    "\n",
    "history_40_4 = model.fit(train_batches,\n",
    "                    epochs=10,\n",
    "                    validation_data=test_batches)\n",
    "# Show the final accuracy of the model\n",
    "acc = model.evaluate(test_batches, verbose=1)\n",
    "print(\"Accuracy: \", acc[1])"
   ]
  },
  {
   "cell_type": "code",
   "execution_count": 30,
   "metadata": {},
   "outputs": [
    {
     "data": {
      "text/plain": [
       "<matplotlib.legend.Legend at 0x28305e557b8>"
      ]
     },
     "execution_count": 30,
     "metadata": {},
     "output_type": "execute_result"
    },
    {
     "data": {
      "image/png": "[encoded data removed]",
      "text/plain": [
       "<Figure size 432x288 with 2 Axes>"
      ]
     },
     "metadata": {
      "needs_background": "light"
     },
     "output_type": "display_data"
    }
   ],
   "source": [
    "# plot the graphs of how the solution converges: Accuracy and Loss for the training and test data\n",
    "\n",
    "plt.subplot(1,2,1)\n",
    "plt.plot(history_40_4.history['acc'])\n",
    "plt.plot(history_40_4.history['val_acc'])\n",
    "plt.ylabel('Accuracy')\n",
    "plt.xlabel('Epoch')\n",
    "plt.legend(['Train', 'Validate'], loc='center left')\n",
    "\n",
    "plt.subplot(1,2,2)\n",
    "plt.plot(history_40_4.history['loss'])\n",
    "plt.plot(history_40_4.history['val_loss'])\n",
    "plt.ylabel('Loss')\n",
    "plt.xlabel('Epoch')\n",
    "plt.legend(['Train', 'Validate'], loc='center right')"
   ]
  },
  {
   "cell_type": "code",
   "execution_count": 31,
   "metadata": {},
   "outputs": [
    {
     "name": "stdout",
     "output_type": "stream",
     "text": [
      "The first 10 predictions: ['Moderate', 'Mild', 'Moderate', 'Mild', 'Moderate', 'Mild', 'Mild', 'Mild', 'Moderate', 'Proliferate_DR']\n"
     ]
    }
   ],
   "source": [
    "#  Predict the label of the test_images\n",
    "pred = model.predict(test_batches)\n",
    "pred = np.argmax(pred,axis=1)\n",
    "\n",
    "# Map the label\n",
    "labels = (train_batches.class_indices)\n",
    "labels = dict((v,k) for k,v in labels.items())\n",
    "pred = [labels[k] for k in pred]\n",
    "\n",
    "# Display the result\n",
    "print(f'The first 10 predictions: {pred[:10]}')"
   ]
  },
  {
   "cell_type": "code",
   "execution_count": 33,
   "metadata": {},
   "outputs": [],
   "source": [
    "# Save the model\n",
    "model.save(\"40-4_Retinopathy_model_trained.h5\")\n",
    "# Save the History\n",
    "df=pd.DataFrame.from_dict(history_40_4.history, orient=\"index\")\n",
    "df.to_csv(\"40-4_history_data.csv\")\n",
    "# Save the predictions\n",
    "import csv\n",
    "with open(\"40-4_pred.csv\", 'w', newline='') as myfile:\n",
    "     wr = csv.writer(myfile, quoting=csv.QUOTE_ALL)\n",
    "     wr.writerow(pred)"
   ]
  },
  {
   "cell_type": "code",
   "execution_count": 34,
   "metadata": {},
   "outputs": [],
   "source": [
    "#######################################################################################\n",
    "### I T E R A T I O N 5 ###############################################################\n",
    "#######################################################################################"
   ]
  },
  {
   "cell_type": "code",
   "execution_count": 35,
   "metadata": {},
   "outputs": [
    {
     "name": "stdout",
     "output_type": "stream",
     "text": [
      "Epoch 1/10\n",
      "92/92 [==============================] - 107s 1s/step - loss: 0.3703 - acc: 0.7228 - val_loss: 0.4046 - val_acc: 0.6535\n",
      "Epoch 2/10\n",
      "92/92 [==============================] - 104s 1s/step - loss: 0.3630 - acc: 0.7194 - val_loss: 0.4064 - val_acc: 0.6589\n",
      "Epoch 3/10\n",
      "92/92 [==============================] - 105s 1s/step - loss: 0.3645 - acc: 0.7296 - val_loss: 0.4043 - val_acc: 0.6508\n",
      "Epoch 4/10\n",
      "92/92 [==============================] - 103s 1s/step - loss: 0.3510 - acc: 0.7487 - val_loss: 0.4052 - val_acc: 0.6453\n",
      "Epoch 5/10\n",
      "92/92 [==============================] - 109s 1s/step - loss: 0.3485 - acc: 0.7460 - val_loss: 0.4007 - val_acc: 0.6576\n",
      "Epoch 6/10\n",
      "92/92 [==============================] - 103s 1s/step - loss: 0.3572 - acc: 0.7293 - val_loss: 0.3984 - val_acc: 0.6535\n",
      "Epoch 7/10\n",
      "92/92 [==============================] - 99s 1s/step - loss: 0.3563 - acc: 0.7286 - val_loss: 0.3974 - val_acc: 0.6658\n",
      "Epoch 8/10\n",
      "92/92 [==============================] - 104s 1s/step - loss: 0.3564 - acc: 0.7357 - val_loss: 0.3959 - val_acc: 0.6439\n",
      "Epoch 9/10\n",
      "92/92 [==============================] - 105s 1s/step - loss: 0.3456 - acc: 0.7368 - val_loss: 0.3968 - val_acc: 0.6617\n",
      "Epoch 10/10\n",
      "92/92 [==============================] - 103s 1s/step - loss: 0.3445 - acc: 0.7426 - val_loss: 0.3941 - val_acc: 0.6480\n",
      "23/23 [==============================] - 9s 369ms/step - loss: 0.3941 - acc: 0.6480\n",
      "Accuracy:  0.6480218172073364\n"
     ]
    }
   ],
   "source": [
    "# Compile and Execute the model\n",
    "model.compile(optimizer=tf.keras.optimizers.Adam(learning_rate = 1e-5),\n",
    "              loss=tf.keras.losses.BinaryCrossentropy(),\n",
    "              metrics=['acc'])\n",
    "\n",
    "history_40_5 = model.fit(train_batches,\n",
    "                    epochs=10,\n",
    "                    validation_data=test_batches)\n",
    "# Show the final accuracy of the model\n",
    "acc = model.evaluate(test_batches, verbose=1)\n",
    "print(\"Accuracy: \", acc[1])"
   ]
  },
  {
   "cell_type": "code",
   "execution_count": 36,
   "metadata": {},
   "outputs": [
    {
     "data": {
      "text/plain": [
       "<matplotlib.legend.Legend at 0x28306b99a90>"
      ]
     },
     "execution_count": 36,
     "metadata": {},
     "output_type": "execute_result"
    },
    {
     "data": {
      "image/png": "[encoded data removed]",
      "text/plain": [
       "<Figure size 432x288 with 2 Axes>"
      ]
     },
     "metadata": {
      "needs_background": "light"
     },
     "output_type": "display_data"
    }
   ],
   "source": [
    "# plot the graphs of how the solution converges: Accuracy and Loss for the training and test data\n",
    "\n",
    "plt.subplot(1,2,1)\n",
    "plt.plot(history_40_5.history['acc'])\n",
    "plt.plot(history_40_5.history['val_acc'])\n",
    "plt.ylabel('Accuracy')\n",
    "plt.xlabel('Epoch')\n",
    "plt.legend(['Train', 'Validate'], loc='center left')\n",
    "\n",
    "plt.subplot(1,2,2)\n",
    "plt.plot(history_40_5.history['loss'])\n",
    "plt.plot(history_40_5.history['val_loss'])\n",
    "plt.ylabel('Loss')\n",
    "plt.xlabel('Epoch')\n",
    "plt.legend(['Train', 'Validate'], loc='center right')"
   ]
  },
  {
   "cell_type": "code",
   "execution_count": 37,
   "metadata": {},
   "outputs": [
    {
     "name": "stdout",
     "output_type": "stream",
     "text": [
      "The first 10 predictions: ['Moderate', 'Mild', 'Moderate', 'Proliferate_DR', 'Moderate', 'Mild', 'Mild', 'Mild', 'Moderate', 'Proliferate_DR']\n"
     ]
    }
   ],
   "source": [
    "#  Predict the label of the test_images\n",
    "pred = model.predict(test_batches)\n",
    "pred = np.argmax(pred,axis=1)\n",
    "\n",
    "# Map the label\n",
    "labels = (train_batches.class_indices)\n",
    "labels = dict((v,k) for k,v in labels.items())\n",
    "pred = [labels[k] for k in pred]\n",
    "\n",
    "# Display the result\n",
    "print(f'The first 10 predictions: {pred[:10]}')"
   ]
  },
  {
   "cell_type": "code",
   "execution_count": 38,
   "metadata": {},
   "outputs": [],
   "source": [
    "# Save the model\n",
    "model.save(\"40-5_Retinopathy_model_trained.h5\")\n",
    "# Save the History\n",
    "df=pd.DataFrame.from_dict(history_40_5.history, orient=\"index\")\n",
    "df.to_csv(\"40-5_history_data.csv\")\n",
    "# Save the predictions\n",
    "import csv\n",
    "with open(\"40-5_pred.csv\", 'w', newline='') as myfile:\n",
    "     wr = csv.writer(myfile, quoting=csv.QUOTE_ALL)\n",
    "     wr.writerow(pred)"
   ]
  },
  {
   "cell_type": "code",
   "execution_count": 39,
   "metadata": {},
   "outputs": [],
   "source": [
    "#######################################################################################\n",
    "### I T E R A T I O N 6 ###############################################################\n",
    "#######################################################################################\n"
   ]
  },
  {
   "cell_type": "code",
   "execution_count": 40,
   "metadata": {},
   "outputs": [
    {
     "name": "stdout",
     "output_type": "stream",
     "text": [
      "Epoch 1/10\n",
      "92/92 [==============================] - 104s 1s/step - loss: 0.3384 - acc: 0.7562 - val_loss: 0.3937 - val_acc: 0.6630\n",
      "Epoch 2/10\n",
      "92/92 [==============================] - 110s 1s/step - loss: 0.3453 - acc: 0.7446 - val_loss: 0.3912 - val_acc: 0.6603\n",
      "Epoch 3/10\n",
      "92/92 [==============================] - 106s 1s/step - loss: 0.3376 - acc: 0.7552 - val_loss: 0.3893 - val_acc: 0.6562\n",
      "Epoch 4/10\n",
      "92/92 [==============================] - 112s 1s/step - loss: 0.3383 - acc: 0.7446 - val_loss: 0.3874 - val_acc: 0.6671\n",
      "Epoch 5/10\n",
      "92/92 [==============================] - 104s 1s/step - loss: 0.3306 - acc: 0.7590 - val_loss: 0.3884 - val_acc: 0.6576\n",
      "Epoch 6/10\n",
      "92/92 [==============================] - 129s 1s/step - loss: 0.3315 - acc: 0.7603 - val_loss: 0.3905 - val_acc: 0.6535\n",
      "Epoch 7/10\n",
      "92/92 [==============================] - 122s 1s/step - loss: 0.3312 - acc: 0.7607 - val_loss: 0.3884 - val_acc: 0.6521\n",
      "Epoch 8/10\n",
      "92/92 [==============================] - 106s 1s/step - loss: 0.3249 - acc: 0.7634 - val_loss: 0.3937 - val_acc: 0.6576\n",
      "Epoch 9/10\n",
      "92/92 [==============================] - 106s 1s/step - loss: 0.3243 - acc: 0.7668 - val_loss: 0.3893 - val_acc: 0.6603\n",
      "Epoch 10/10\n",
      "92/92 [==============================] - 103s 1s/step - loss: 0.3232 - acc: 0.7583 - val_loss: 0.3916 - val_acc: 0.6426\n",
      "23/23 [==============================] - 8s 342ms/step - loss: 0.3916 - acc: 0.6426\n",
      "Accuracy:  0.6425647735595703\n"
     ]
    }
   ],
   "source": [
    "# Compile and Execute the model\n",
    "model.compile(optimizer=tf.keras.optimizers.Adam(learning_rate = 1e-5),\n",
    "              loss=tf.keras.losses.BinaryCrossentropy(),\n",
    "              metrics=['acc'])\n",
    "\n",
    "history_40_6 = model.fit(train_batches,\n",
    "                    epochs=10,\n",
    "                    validation_data=test_batches)\n",
    "# Show the final accuracy of the model\n",
    "acc = model.evaluate(test_batches, verbose=1)\n",
    "print(\"Accuracy: \", acc[1])"
   ]
  },
  {
   "cell_type": "code",
   "execution_count": 41,
   "metadata": {},
   "outputs": [
    {
     "data": {
      "text/plain": [
       "<matplotlib.legend.Legend at 0x2830986b7b8>"
      ]
     },
     "execution_count": 41,
     "metadata": {},
     "output_type": "execute_result"
    },
    {
     "data": {
      "image/png": "[encoded data removed]",
      "text/plain": [
       "<Figure size 432x288 with 2 Axes>"
      ]
     },
     "metadata": {
      "needs_background": "light"
     },
     "output_type": "display_data"
    }
   ],
   "source": [
    "# plot the graphs of how the solution converges: Accuracy and Loss for the training and test data\n",
    "\n",
    "plt.subplot(1,2,1)\n",
    "plt.plot(history_40_6.history['acc'])\n",
    "plt.plot(history_40_6.history['val_acc'])\n",
    "plt.ylabel('Accuracy')\n",
    "plt.xlabel('Epoch')\n",
    "plt.legend(['Train', 'Validate'], loc='center left')\n",
    "\n",
    "plt.subplot(1,2,2)\n",
    "plt.plot(history_40_6.history['loss'])\n",
    "plt.plot(history_40_6.history['val_loss'])\n",
    "plt.ylabel('Loss')\n",
    "plt.xlabel('Epoch')\n",
    "plt.legend(['Train', 'Validate'], loc='center right')"
   ]
  },
  {
   "cell_type": "code",
   "execution_count": 44,
   "metadata": {},
   "outputs": [
    {
     "name": "stdout",
     "output_type": "stream",
     "text": [
      "The first 10 predictions: ['Moderate', 'Mild', 'Moderate', 'Proliferate_DR', 'Moderate', 'Mild', 'Mild', 'Mild', 'Moderate', 'Proliferate_DR']\n"
     ]
    }
   ],
   "source": [
    "#  Predict the label of the test_images\n",
    "pred = model.predict(test_batches)\n",
    "pred = np.argmax(pred,axis=1)\n",
    "\n",
    "# Map the label\n",
    "labels = (train_batches.class_indices)\n",
    "labels = dict((v,k) for k,v in labels.items())\n",
    "pred = [labels[k] for k in pred]\n",
    "\n",
    "# Display the result\n",
    "print(f'The first 10 predictions: {pred[:10]}')"
   ]
  },
  {
   "cell_type": "code",
   "execution_count": 45,
   "metadata": {},
   "outputs": [],
   "source": [
    "# Save the model\n",
    "model.save(\"40-6_Retinopathy_model_trained.h5\")\n",
    "# Save the History\n",
    "df=pd.DataFrame.from_dict(history_40_6.history, orient=\"index\")\n",
    "df.to_csv(\"40-6_history_data.csv\")\n",
    "# Save the predictions\n",
    "import csv\n",
    "with open(\"40-6_pred.csv\", 'w', newline='') as myfile:\n",
    "     wr = csv.writer(myfile, quoting=csv.QUOTE_ALL)\n",
    "     wr.writerow(pred)"
   ]
  },
  {
   "cell_type": "code",
   "execution_count": 46,
   "metadata": {},
   "outputs": [],
   "source": []
  },
  {
   "cell_type": "code",
   "execution_count": null,
   "metadata": {},
   "outputs": [],
   "source": []
  },
  {
   "cell_type": "code",
   "execution_count": null,
   "metadata": {},
   "outputs": [],
   "source": []
  },
  {
   "cell_type": "code",
   "execution_count": null,
   "metadata": {},
   "outputs": [],
   "source": []
  },
  {
   "cell_type": "code",
   "execution_count": null,
   "metadata": {},
   "outputs": [],
   "source": []
  }
 ],
 "metadata": {
  "kernelspec": {
   "display_name": "Python 3",
   "language": "python",
   "name": "python3"
  },
  "language_info": {
   "codemirror_mode": {
    "name": "ipython",
    "version": 3
   },
   "file_extension": ".py",
   "mimetype": "text/x-python",
   "name": "python",
   "nbconvert_exporter": "python",
   "pygments_lexer": "ipython3",
   "version": "3.8.8"
  }
 },
 "nbformat": 4,
 "nbformat_minor": 4
}
