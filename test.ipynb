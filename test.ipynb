{
 "cells": [
  {
   "cell_type": "code",
   "execution_count": 5,
   "id": "856c8536-7618-4670-bcb9-f91cbb3f2a15",
   "metadata": {},
   "outputs": [],
   "source": [
    "import numpy as np\n",
    "import matplotlib.pyplot as plt\n",
    "import pandas as pd\n",
    "from sklearn.model_selection import train_test_split\n",
    "from sklearn.preprocessing import StandardScaler\n",
    "from sklearn.linear_model import LogisticRegression\n",
    "from sklearn.metrics import confusion_matrix, accuracy_score\n",
    "from pickle import dump\n",
    "from pickle import load"
   ]
  },
  {
   "cell_type": "code",
   "execution_count": 6,
   "id": "e5cdebc5-7462-4daa-a9f3-770fccb33b0d",
   "metadata": {},
   "outputs": [],
   "source": [
    "diabetes_model = load(open('diabetes_model.pkl', 'rb'))\n",
    "diabetes_scaler = load(open('diabetes_scaler.pkl', 'rb'))"
   ]
  },
  {
   "cell_type": "code",
   "execution_count": 9,
   "id": "a558f52d-1376-4201-8ed2-117198814cc4",
   "metadata": {},
   "outputs": [
    {
     "data": {
      "text/plain": [
       "array([0])"
      ]
     },
     "execution_count": 9,
     "metadata": {},
     "output_type": "execute_result"
    }
   ],
   "source": [
    "diabetes_model.predict(diabetes_scaler.transform([[1,93,70,31,0,30.4,0.315,23]]))"
   ]
  },
  {
   "cell_type": "code",
   "execution_count": 10,
   "id": "2241b912-b0ee-4c56-8f65-b17a684205aa",
   "metadata": {},
   "outputs": [],
   "source": [
    "a = diabetes_model.predict(diabetes_scaler.transform([[1,93,70,31,0,30.4,0.315,23]]))"
   ]
  },
  {
   "cell_type": "code",
   "execution_count": 13,
   "id": "0a3760d5-70f8-466f-b8fc-fb257a6dcf46",
   "metadata": {},
   "outputs": [
    {
     "data": {
      "text/plain": [
       "False"
      ]
     },
     "execution_count": 13,
     "metadata": {},
     "output_type": "execute_result"
    }
   ],
   "source": [
    "bool(a[0])"
   ]
  },
  {
   "cell_type": "code",
   "execution_count": null,
   "id": "588fe625-76b1-4be1-b2c6-cbc2bf5061ae",
   "metadata": {},
   "outputs": [],
   "source": []
  },
  {
   "cell_type": "code",
   "execution_count": null,
   "id": "d8f67de5-5340-4a34-b385-bc902b122bf1",
   "metadata": {},
   "outputs": [],
   "source": []
  }
 ],
 "metadata": {
  "kernelspec": {
   "display_name": "Python 3",
   "language": "python",
   "name": "python3"
  },
  "language_info": {
   "codemirror_mode": {
    "name": "ipython",
    "version": 3
   },
   "file_extension": ".py",
   "mimetype": "text/x-python",
   "name": "python",
   "nbconvert_exporter": "python",
   "pygments_lexer": "ipython3",
   "version": "3.8.8"
  }
 },
 "nbformat": 4,
 "nbformat_minor": 5
}
